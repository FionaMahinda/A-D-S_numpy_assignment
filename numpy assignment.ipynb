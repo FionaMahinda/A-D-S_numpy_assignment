{
 "cells": [
  {
   "cell_type": "code",
   "execution_count": 2,
   "id": "bd9dd3c3",
   "metadata": {},
   "outputs": [],
   "source": [
    "import numpy as np"
   ]
  },
  {
   "cell_type": "code",
   "execution_count": 3,
   "id": "039f928a",
   "metadata": {},
   "outputs": [],
   "source": [
    "heights = np.array([160, 155, 172, 165, 180, 158, 175, 163, 171, 168])"
   ]
  },
  {
   "cell_type": "code",
   "execution_count": 4,
   "id": "51c9b306",
   "metadata": {},
   "outputs": [],
   "source": [
    "from scipy import stats"
   ]
  },
  {
   "cell_type": "code",
   "execution_count": 6,
   "id": "3937d466",
   "metadata": {},
   "outputs": [
    {
     "name": "stdout",
     "output_type": "stream",
     "text": [
      "Mean: 166.7\n"
     ]
    }
   ],
   "source": [
    "mean = np.mean(heights)\n",
    "print(\"Mean:\", mean )"
   ]
  },
  {
   "cell_type": "code",
   "execution_count": 7,
   "id": "cd1253b7",
   "metadata": {},
   "outputs": [
    {
     "name": "stdout",
     "output_type": "stream",
     "text": [
      "Median: 166.5\n"
     ]
    }
   ],
   "source": [
    "median = np.median(heights)\n",
    "print(\"Median:\", median)"
   ]
  },
  {
   "cell_type": "code",
   "execution_count": 8,
   "id": "8f981e0e",
   "metadata": {},
   "outputs": [
    {
     "name": "stdout",
     "output_type": "stream",
     "text": [
      "Standard Deviation: 7.5372408744845085\n"
     ]
    }
   ],
   "source": [
    "std_dev = np.std(heights)\n",
    "print(\"Standard Deviation:\", std_dev)"
   ]
  },
  {
   "cell_type": "code",
   "execution_count": 9,
   "id": "e4b9fd65",
   "metadata": {},
   "outputs": [
    {
     "name": "stdout",
     "output_type": "stream",
     "text": [
      "Normalized heights [-0.88891945 -1.55229217  0.70317509 -0.22554673  1.76457144 -1.15426854\n",
      "  1.10119872 -0.49089581  0.57050054  0.17247691]\n"
     ]
    }
   ],
   "source": [
    "#Create a new array with the heights normalized\n",
    "\n",
    "normalized_heights = ((heights- mean)/std_dev)\n",
    "print(\"Normalized heights:\", normalized_heights)"
   ]
  },
  {
   "cell_type": "code",
   "execution_count": 12,
   "id": "b64dc38e",
   "metadata": {},
   "outputs": [
    {
     "name": "stdout",
     "output_type": "stream",
     "text": [
      "Tallest height: 4\n",
      "Shortest student: 1\n"
     ]
    }
   ],
   "source": [
    "#Determine the tallest and shortest students in the class using NumPy's argmax and argmin functions.\n",
    "tallest_student = np.argmax(heights)\n",
    "print(\"Tallest height:\", tallest_student)\n",
    "\n",
    "shortest_student = np.argmin(heights)\n",
    "print(\"Shortest student:\", shortest_student)"
   ]
  },
  {
   "cell_type": "code",
   "execution_count": 19,
   "id": "d0c20507",
   "metadata": {},
   "outputs": [
    {
     "name": "stdout",
     "output_type": "stream",
     "text": [
      "The height difference is 3 inches\n"
     ]
    }
   ],
   "source": [
    "#Calculate the difference between the tallest and shortest students' heights\n",
    "height_difference = tallest_student - shortest_student\n",
    "print(f\"The height difference is {height_difference} inches\")"
   ]
  },
  {
   "cell_type": "code",
   "execution_count": 20,
   "id": "033501f4",
   "metadata": {},
   "outputs": [
    {
     "name": "stdout",
     "output_type": "stream",
     "text": [
      "Sample without replacement: [168 160 155 172 163]\n"
     ]
    }
   ],
   "source": [
    "#Randomly select 5 heights from the dataset without replacement.\n",
    "heights = np.array([160, 155, 172, 165, 180, 158, 175, 163, 171, 168])\n",
    "\n",
    "# Sample 5 elements without replacement\n",
    "sample_no_replacement = np.random.choice(heights, 5, replace=False)\n",
    "print(\"Sample without replacement:\", sample_no_replacement)"
   ]
  },
  {
   "cell_type": "code",
   "execution_count": null,
   "id": "68bff1ad",
   "metadata": {},
   "outputs": [],
   "source": []
  }
 ],
 "metadata": {
  "kernelspec": {
   "display_name": "Python 3 (ipykernel)",
   "language": "python",
   "name": "python3"
  },
  "language_info": {
   "codemirror_mode": {
    "name": "ipython",
    "version": 3
   },
   "file_extension": ".py",
   "mimetype": "text/x-python",
   "name": "python",
   "nbconvert_exporter": "python",
   "pygments_lexer": "ipython3",
   "version": "3.11.4"
  }
 },
 "nbformat": 4,
 "nbformat_minor": 5
}
